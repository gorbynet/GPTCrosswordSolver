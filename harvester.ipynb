{
 "cells": [
  {
   "cell_type": "code",
   "execution_count": 4,
   "metadata": {},
   "outputs": [],
   "source": [
    "import requests\n",
    "import requests_cache\n",
    "requests_cache.install_cache(\"bigdave\") \n",
    "import lxml"
   ]
  },
  {
   "cell_type": "code",
   "execution_count": 5,
   "metadata": {},
   "outputs": [],
   "source": [
    "s = requests.Session()"
   ]
  },
  {
   "attachments": {},
   "cell_type": "markdown",
   "metadata": {},
   "source": [
    "Want to start at the home page (maybe don't cache this).  \n",
    "Find the first page named 'DT \\d{5}'  \n",
    "\n",
    "Go to that page.  \n",
    "Crawl the clues.  \n",
    "Find the nav links, follow them until the next DT page is found.  \n",
    "Repeat until no more nav links?  \n",
    "Be polite.  \n"
   ]
  },
  {
   "cell_type": "code",
   "execution_count": null,
   "metadata": {},
   "outputs": [],
   "source": [
    "base_url = \"http://bigdave44.com\""
   ]
  }
 ],
 "metadata": {
  "kernelspec": {
   "display_name": "GPTCrosswordSolver",
   "language": "python",
   "name": "python3"
  },
  "language_info": {
   "codemirror_mode": {
    "name": "ipython",
    "version": 3
   },
   "file_extension": ".py",
   "mimetype": "text/x-python",
   "name": "python",
   "nbconvert_exporter": "python",
   "pygments_lexer": "ipython3",
   "version": "3.11.0"
  },
  "orig_nbformat": 4,
  "vscode": {
   "interpreter": {
    "hash": "0aae99b0c7f3ab316fd40c84a3389d914f7defa3f1839666803e3b29ff34d903"
   }
  }
 },
 "nbformat": 4,
 "nbformat_minor": 2
}
