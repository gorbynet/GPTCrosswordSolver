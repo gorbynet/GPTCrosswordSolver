{
 "cells": [
  {
   "cell_type": "code",
   "execution_count": 137,
   "metadata": {},
   "outputs": [],
   "source": [
    "import datetime as dt\n",
    "import requests\n",
    "import requests_cache\n",
    "requests_cache.install_cache(\"bigdave\", expire_after=dt.timedelta(days=1)) \n",
    "from lxml import html\n",
    "import re\n",
    "from time import sleep"
   ]
  },
  {
   "cell_type": "code",
   "execution_count": 138,
   "metadata": {},
   "outputs": [],
   "source": [
    "s = requests.Session()"
   ]
  },
  {
   "attachments": {},
   "cell_type": "markdown",
   "metadata": {},
   "source": [
    "Want to start at the home page (maybe don't cache this).  \n",
    "Find the first page named 'DT \\d{5}'  \n",
    "\n",
    "Go to that page.  \n",
    "Crawl the clues.  \n",
    "Find the nav links, follow them until the next DT page is found.  \n",
    "Repeat until no more nav links?  \n",
    "Be polite.  \n"
   ]
  },
  {
   "cell_type": "code",
   "execution_count": 139,
   "metadata": {},
   "outputs": [],
   "source": [
    "base_url = \"http://bigdave44.com\""
   ]
  },
  {
   "cell_type": "code",
   "execution_count": 140,
   "metadata": {},
   "outputs": [],
   "source": [
    "r = s.get(base_url)\n",
    "r.raise_for_status()"
   ]
  },
  {
   "cell_type": "code",
   "execution_count": 141,
   "metadata": {},
   "outputs": [
    {
     "name": "stdout",
     "output_type": "stream",
     "text": [
      "['http://bigdave44.com/2009/01/28/welcome/', 'http://bigdave44.com/2023/03/22/toughie-3030/', 'http://bigdave44.com/2023/03/22/dt-30254/', 'http://bigdave44.com/2023/03/22/sunday-toughie-59-review/', 'http://bigdave44.com/2023/03/22/st-3203-full-review/', 'http://bigdave44.com/2023/03/21/rip-pam-morton-mrs-bd/', 'http://bigdave44.com/2023/03/21/167421/', 'http://bigdave44.com/2023/03/21/dt-30253/', 'http://bigdave44.com/2023/03/20/dt-30252/', 'http://bigdave44.com/2023/03/20/rookie-corner-467/', 'http://bigdave44.com/2023/03/19/sunday-toughie-60-hints/']\n"
     ]
    }
   ],
   "source": [
    "tree = html.fromstring(r.content)\n",
    "links = tree.xpath('//h2[@class=\"entry-title\"]/a[@rel=\"bookmark\"]/@href')\n",
    "print(links)"
   ]
  },
  {
   "cell_type": "code",
   "execution_count": 142,
   "metadata": {},
   "outputs": [
    {
     "name": "stdout",
     "output_type": "stream",
     "text": [
      "Getting http://bigdave44.com/2023/03/22/dt-30254/\n"
     ]
    }
   ],
   "source": [
    "for l in links:\n",
    "    if not 'dt-' in l:\n",
    "        continue\n",
    "    print(f\"Getting {l}\")\n",
    "    break\n",
    "r = s.get(l)\n",
    "r.raise_for_status()"
   ]
  },
  {
   "cell_type": "code",
   "execution_count": 143,
   "metadata": {},
   "outputs": [],
   "source": [
    "def get_clues(l, content):\n",
    "    clue_pairs = []\n",
    "    tree = html.fromstring(content)\n",
    "    if re.search('/dt-\\d+/', l):\n",
    "        clues = tree.xpath('//p')\n",
    "        for _c in clues:\n",
    "            c = re.sub(r'\\s+', ' ', \" \".join(_c.itertext()))\n",
    "            c = re.sub(r'[—-]', '-', c)\n",
    "            if not re.match(r'\\d+[ad]', c):\n",
    "                continue\n",
    "            # print(c)\n",
    "            clue, answer = None, None\n",
    "            # Y’S \n",
    "            if (re.search(r'\\d+[ad]\\s+(.+\\s\\([\\d,—-]+\\))', c)):\n",
    "                if (re.search(r'\\([\\d,—-]+\\)\\s+([A-Z\\s—-]+)\\s?[:—-]', c, re.I)):\n",
    "                    clue = re.search(r'\\d+[ad]\\s+(.+\\s\\([\\d,—-]+\\))', c).groups()\n",
    "                    answer = re.search(r'\\([\\d,—-]+\\)\\s+([A-Z’\\'\\s—-]+)\\s?[:—-]', c, re.I).groups()\n",
    "                    clue_pairs.append((clue[0].strip(), answer[0].strip())) \n",
    "                else:\n",
    "                    print(\"Didn't find answer:\", c)\n",
    "                    \n",
    "            else:\n",
    "                # print(\"Didn't find clue:\", c)\n",
    "                ...\n",
    "            \n",
    "            # print (clue, answer)\n",
    "    links = tree.xpath('//div [@class=\"nav-previous\"]/a')\n",
    "    \n",
    "    # print(links[0].get('href'))\n",
    "    return(clue_pairs, links[0].get('href'))\n",
    "        "
   ]
  },
  {
   "cell_type": "code",
   "execution_count": 144,
   "metadata": {},
   "outputs": [
    {
     "name": "stdout",
     "output_type": "stream",
     "text": [
      "http://bigdave44.com/2023/03/22/dt-30254/ (1)\n",
      "http://bigdave44.com/2023/03/21/dt-30253/ (2)\n",
      "http://bigdave44.com/2023/03/20/dt-30252/ (3)\n",
      "http://bigdave44.com/2023/03/17/dt-30250/ (4)\n",
      "http://bigdave44.com/2023/03/15/dt-30248/ (5)\n",
      "http://bigdave44.com/2023/03/14/dt-30247/ (6)\n",
      "http://bigdave44.com/2023/03/10/dt-30244/ (7)\n",
      "http://bigdave44.com/2023/03/08/dt-30242/ (8)\n",
      "http://bigdave44.com/2023/03/07/dt-30241/ (9)\n",
      "http://bigdave44.com/2023/03/06/dt-30240/ (10)\n",
      "http://bigdave44.com/2023/03/03/dt-30238/ (11)\n",
      "http://bigdave44.com/2023/03/01/dt-30236/ (12)\n",
      "http://bigdave44.com/2023/02/28/dt-30235/ (13)\n",
      "http://bigdave44.com/2023/02/27/dt-30234/ (14)\n",
      "http://bigdave44.com/2023/02/24/dt-30232/ (15)\n",
      "http://bigdave44.com/2023/02/22/dt-30230/ (16)\n",
      "http://bigdave44.com/2023/02/21/dt-30229/ (17)\n",
      "http://bigdave44.com/2023/02/20/dt-30228/ (18)\n",
      "http://bigdave44.com/2023/02/17/dt-30226/ (19)\n",
      "http://bigdave44.com/2023/02/15/dt-30224/ (20)\n",
      "http://bigdave44.com/2023/02/14/dt-30223/ (21)\n",
      "http://bigdave44.com/2023/02/13/dt-30222/ (22)\n",
      "http://bigdave44.com/2023/02/10/dt-30220/ (23)\n",
      "http://bigdave44.com/2023/02/09/dt-30219/ (24)\n",
      "http://bigdave44.com/2023/02/07/dt-30217/ (25)\n",
      "http://bigdave44.com/2023/02/06/dt-30216/ (26)\n",
      "http://bigdave44.com/2023/02/03/dt-30214/ (27)\n",
      "http://bigdave44.com/2023/02/02/dt-30213/ (28)\n",
      "http://bigdave44.com/2023/02/01/dt-30212/ (29)\n",
      "http://bigdave44.com/2023/01/31/dt-30211/ (30)\n",
      "http://bigdave44.com/2023/01/30/dt-30210/ (31)\n",
      "http://bigdave44.com/2023/01/26/dt-30207/ (32)\n",
      "http://bigdave44.com/2023/01/25/dt-30206/ (33)\n",
      "http://bigdave44.com/2023/01/24/dt-30205/ (34)\n",
      "http://bigdave44.com/2023/01/23/dt-30204/ (35)\n",
      "http://bigdave44.com/2023/01/20/dt-30202/ (36)\n",
      "http://bigdave44.com/2023/01/19/dt-30201/ (37)\n",
      "http://bigdave44.com/2023/01/18/dt-30200/ (38)\n",
      "http://bigdave44.com/2023/01/17/dt-30199/ (39)\n",
      "http://bigdave44.com/2023/01/16/dt-30198/ (40)\n",
      "Didn't find answer: 20a Have expertise - able to tell a scallion from a shallot? (4,4,6) KNOW ONE’S ONIONS - literally interpreted, this idiomatic expression could denote the ability to distinguish one variety of allium from another\n",
      "http://bigdave44.com/2023/01/13/dt-30196/ (41)\n",
      "http://bigdave44.com/2023/01/12/dt-30195/ (42)\n",
      "http://bigdave44.com/2023/01/11/dt-30194/ (43)\n",
      "Didn't find answer: 1a This could be blooming thing Cinderella lost? (5-7) LADY’S SLIPPER : This might be what Prince Charming found on the stairway. \n",
      "http://bigdave44.com/2023/01/10/dt-30193/ (44)\n",
      "http://bigdave44.com/2023/01/09/dt-30192/ (45)\n",
      "http://bigdave44.com/2023/01/06/dt-30190/ (46)\n",
      "http://bigdave44.com/2023/01/05/dt-30189/ (47)\n",
      "http://bigdave44.com/2023/01/04/dt-30188/ (48)\n",
      "http://bigdave44.com/2023/01/03/dt-30187/ (49)\n",
      "http://bigdave44.com/2023/01/02/dt-30186/ (50)\n",
      "http://bigdave44.com/2022/12/30/dt-30184/ (51)\n",
      "http://bigdave44.com/2022/12/29/dt-30183/ (52)\n",
      "http://bigdave44.com/2022/12/28/dt-30182/ (53)\n",
      "http://bigdave44.com/2022/12/27/dt-30181/ (54)\n",
      "http://bigdave44.com/2022/12/26/dt-30180/ (55)\n",
      "http://bigdave44.com/2022/12/23/dt-30178/ (56)\n",
      "http://bigdave44.com/2022/12/22/dt-30177/ (57)\n",
      "http://bigdave44.com/2022/12/21/dt-30176/ (58)\n",
      "http://bigdave44.com/2022/12/20/dt-30175/ (59)\n",
      "Didn't find answer: 29a Article revealing scandal with former model (6) EXPOSÉ : The two-letter term for former, and a synonym for model as a verb\n",
      "http://bigdave44.com/2022/12/19/dt-30174/ (60)\n",
      "Didn't find answer: 13a, 14a, and 15a give a (6,6) pun.\n",
      "http://bigdave44.com/2022/12/16/dt-30172/ (61)\n",
      "http://bigdave44.com/2022/12/15/dt-30171/ (62)\n",
      "http://bigdave44.com/2022/12/14/dt-30170/ (63)\n",
      "http://bigdave44.com/2022/12/13/dt-30169/ (64)\n",
      "http://bigdave44.com/2022/12/12/dt-30168/ (65)\n",
      "Didn't find answer: 19a Feeling over in market, disordered place (5-4) MARE’S-NEST - reverse a word meaning a general feeling or emotion and insert it into another term for market; although the BRB does not do so, the online Chambers 21st Century Dictionary indicates this to be a chiefly US usage\n",
      "http://bigdave44.com/2022/12/09/dt-30166/ (66)\n",
      "http://bigdave44.com/2022/12/08/dt-30165/ (67)\n",
      "http://bigdave44.com/2022/12/07/dt-30164/ (68)\n",
      "http://bigdave44.com/2022/12/06/dt-30163/ (69)\n",
      "http://bigdave44.com/2022/12/05/dt-30162/ (70)\n",
      "Didn't find answer: 12a Cured meat and tripe (6): DT 30156\n",
      "http://bigdave44.com/2022/12/02/dt-30160/ (71)\n",
      "http://bigdave44.com/2022/12/01/dt-30159/ (72)\n",
      "http://bigdave44.com/2022/11/30/dt-30258/ (73)\n",
      "http://bigdave44.com/2022/11/29/dt-30157/ (74)\n",
      "http://bigdave44.com/2022/11/28/dt-30156/ (75)\n",
      "http://bigdave44.com/2022/11/25/dt-30154/ (76)\n",
      "http://bigdave44.com/2022/11/24/dt-30153/ (77)\n",
      "http://bigdave44.com/2022/11/23/dt-30152/ (78)\n",
      "http://bigdave44.com/2022/11/22/dt-30151/ (79)\n",
      "http://bigdave44.com/2022/11/21/dt-30150/ (80)\n",
      "http://bigdave44.com/2022/11/18/dt-30148/ (81)\n",
      "http://bigdave44.com/2022/11/17/dt-30147/ (82)\n",
      "Sleeping\n",
      "http://bigdave44.com/2022/11/16/dt-30146/ (83)\n",
      "Sleeping\n",
      "Sleeping\n",
      "Sleeping\n",
      "Sleeping\n",
      "http://bigdave44.com/2022/11/15/dt-30145/ (84)\n",
      "Sleeping\n",
      "http://bigdave44.com/2022/11/14/dt-30144/ (85)\n",
      "Sleeping\n",
      "Sleeping\n",
      "Sleeping\n",
      "Sleeping\n",
      "Sleeping\n",
      "Sleeping\n",
      "Sleeping\n",
      "Sleeping\n",
      "http://bigdave44.com/2022/11/11/dt-30142/ (86)\n",
      "Sleeping\n",
      "Sleeping\n",
      "Sleeping\n",
      "http://bigdave44.com/2022/11/10/dt-30141/ (87)\n",
      "Sleeping\n",
      "Sleeping\n",
      "Sleeping\n",
      "http://bigdave44.com/2022/11/09/dt-30140/ (88)\n",
      "Sleeping\n",
      "Sleeping\n"
     ]
    },
    {
     "ename": "KeyboardInterrupt",
     "evalue": "",
     "output_type": "error",
     "traceback": [
      "\u001b[1;31m---------------------------------------------------------------------------\u001b[0m",
      "\u001b[1;31mKeyboardInterrupt\u001b[0m                         Traceback (most recent call last)",
      "Cell \u001b[1;32mIn[144], line 12\u001b[0m\n\u001b[0;32m     10\u001b[0m \u001b[39mif\u001b[39;00m \u001b[39mnot\u001b[39;00m r\u001b[39m.\u001b[39mfrom_cache:\n\u001b[0;32m     11\u001b[0m     \u001b[39mprint\u001b[39m(\u001b[39m\"\u001b[39m\u001b[39mSleeping\u001b[39m\u001b[39m\"\u001b[39m)\n\u001b[1;32m---> 12\u001b[0m     sleep(\u001b[39m5\u001b[39;49m)\n\u001b[0;32m     13\u001b[0m r\u001b[39m.\u001b[39mraise_for_status()\n\u001b[0;32m     14\u001b[0m _pairs, l \u001b[39m=\u001b[39m get_clues(l, r\u001b[39m.\u001b[39mcontent)\n",
      "\u001b[1;31mKeyboardInterrupt\u001b[0m: "
     ]
    }
   ],
   "source": [
    "pairs = []\n",
    "crawl=True\n",
    "crawled_links = []\n",
    "max_pages = 1800 # approx five years' worth\n",
    "while crawl:\n",
    "    if re.search('/dt-\\d+/', l):\n",
    "        crawled_links.append(l)\n",
    "        print(l, f\"({len(crawled_links)})\")\n",
    "    r = s.get(l)\n",
    "    if not r.from_cache:\n",
    "        print(\"Sleeping\")\n",
    "        sleep(1)\n",
    "    r.raise_for_status()\n",
    "    _pairs, l = get_clues(l, r.content)\n",
    "    \n",
    "    pairs.extend(_pairs)\n",
    "    if not l:\n",
    "        crawl = False\n",
    "    if len(crawled_links) > max_pages:\n",
    "        crawl=False"
   ]
  },
  {
   "cell_type": "code",
   "execution_count": null,
   "metadata": {},
   "outputs": [
    {
     "data": {
      "text/plain": [
       "<re.Match object; span=(39, 56), match='(3-5) ONE-LINER —'>"
      ]
     },
     "execution_count": 110,
     "metadata": {},
     "output_type": "execute_result"
    }
   ],
   "source": [
    "_str = \" 17d Wisecrack from individual on ship (3-5) ONE-LINER — another word for individual and a large passenger ship\"\n",
    "re.search(r'\\([\\d,—-]+\\)\\s+([A-Z\\s—-]+)\\s?[:—-]', _str, re.I)\n"
   ]
  },
  {
   "cell_type": "code",
   "execution_count": 146,
   "metadata": {},
   "outputs": [
    {
     "data": {
      "text/plain": [
       "(2504,\n",
       " ('Giving affection, having a close relationship (4,2,5)', 'HAND IN GLOVE'))"
      ]
     },
     "execution_count": 146,
     "metadata": {},
     "output_type": "execute_result"
    }
   ],
   "source": [
    "len(pairs), pairs[0]"
   ]
  },
  {
   "cell_type": "code",
   "execution_count": 147,
   "metadata": {},
   "outputs": [],
   "source": [
    "with open('pairs.txt', 'w', encoding='utf-8') as outfile:\n",
    "    for p in pairs:\n",
    "        print(\"\\t\".join(p), file=outfile)"
   ]
  },
  {
   "cell_type": "code",
   "execution_count": 149,
   "metadata": {},
   "outputs": [
    {
     "data": {
      "text/plain": [
       "1825"
      ]
     },
     "execution_count": 149,
     "metadata": {},
     "output_type": "execute_result"
    }
   ],
   "source": [
    "365*5"
   ]
  },
  {
   "cell_type": "code",
   "execution_count": null,
   "metadata": {},
   "outputs": [],
   "source": []
  }
 ],
 "metadata": {
  "kernelspec": {
   "display_name": "GPTCrosswordSolver",
   "language": "python",
   "name": "python3"
  },
  "language_info": {
   "codemirror_mode": {
    "name": "ipython",
    "version": 3
   },
   "file_extension": ".py",
   "mimetype": "text/x-python",
   "name": "python",
   "nbconvert_exporter": "python",
   "pygments_lexer": "ipython3",
   "version": "3.11.0"
  },
  "orig_nbformat": 4,
  "vscode": {
   "interpreter": {
    "hash": "0aae99b0c7f3ab316fd40c84a3389d914f7defa3f1839666803e3b29ff34d903"
   }
  }
 },
 "nbformat": 4,
 "nbformat_minor": 2
}
